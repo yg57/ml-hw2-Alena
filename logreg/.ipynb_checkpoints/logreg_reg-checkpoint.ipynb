{
 "cells": [
  {
   "cell_type": "markdown",
   "metadata": {},
   "source": [
    "# Regularized logistic regression"
   ]
  },
  {
   "cell_type": "code",
   "execution_count": null,
   "metadata": {},
   "outputs": [],
   "source": [
    "import pandas as pd\n",
    "import numpy as np\n",
    "import matplotlib.pyplot as plt\n",
    "import plot_utils\n",
    "from logistic_regressor import LogisticRegressor\n",
    "\n",
    "import warnings\n",
    "warnings.filterwarnings(\"ignore\", category=FutureWarning)\n",
    "\n",
    "# This is a bit of magic to make matplotlib figures appear inline in the notebook\n",
    "# rather than in a new window.\n",
    "%matplotlib inline\n",
    "plt.rcParams['figure.figsize'] = (15.0, 10.0) # set default size of plots\n",
    "plt.rcParams['image.interpolation'] = 'nearest'\n",
    "plt.rcParams['image.cmap'] = 'gray'\n",
    "\n",
    "# Some more magic so that the notebook will reload external python modules;\n",
    "# see http://stackoverflow.com/questions/1907993/autoreload-of-modules-in-ipython\n",
    "%load_ext autoreload\n",
    "%autoreload 2"
   ]
  },
  {
   "cell_type": "code",
   "execution_count": null,
   "metadata": {
    "scrolled": true
   },
   "outputs": [],
   "source": [
    "##================ Part 0: Reading data and plotting ==================#\n",
    "\n",
    "import pandas as pd\n",
    "import numpy as np\n",
    "\n",
    "data = pd.read_csv('ex2data2.txt')\n",
    "X = np.vstack([data.x1,data.x2]).T\n",
    "y = data.y\n",
    "\n",
    "print('Plotting data with green circle indicating (y=1) examples and red circle indicating (y=0) examples ...')\n",
    "plot_utils.plot_twoclass_data(X,y,'Chip Test 1', 'Chip Test 2',['y=0','y=1'])\n",
    "plt.show()"
   ]
  },
  {
   "cell_type": "code",
   "execution_count": null,
   "metadata": {},
   "outputs": [],
   "source": [
    "XX = np.vstack([np.ones((X.shape[0],)),X.T]).T\n",
    "from logistic_regressor import RegLogisticRegressor\n",
    "log_reg1 = RegLogisticRegressor()\n",
    "theta = np.ones((XX.shape[1],))\n",
    "loss = log_reg1.loss(theta,XX,y,100)\n",
    "grad = log_reg1.grad_loss(theta,XX,y,100)"
   ]
  },
  {
   "cell_type": "code",
   "execution_count": null,
   "metadata": {
    "scrolled": false
   },
   "outputs": [],
   "source": [
    "#================ Part 1: Compute cost and gradient ==================#\n",
    "# open logistic_regressor.py and implement the regularized loss function \n",
    "# and gradient \n",
    "\n",
    "# map the features in ex2data2.txt into a pth order polynomial\n",
    "\n",
    "import sklearn\n",
    "from sklearn.preprocessing import PolynomialFeatures\n",
    "\n",
    "# Map X onto polynomial features and normalize\n",
    "\n",
    "p = 6\n",
    "poly = sklearn.preprocessing.PolynomialFeatures(degree=p,include_bias=False)\n",
    "X_poly = poly.fit_transform(X)\n",
    "\n",
    "# set up the data matrix (expanded basis functions) with the column of ones as intercept\n",
    "\n",
    "XX = np.vstack([np.ones((X_poly.shape[0],)),X_poly.T]).T\n",
    "\n",
    "# set up a regularized logistic regression model\n",
    "\n",
    "from logistic_regressor import RegLogisticRegressor\n",
    "\n",
    "reg_lr1 = RegLogisticRegressor()\n",
    "\n",
    "# run fmin on the loss function and gradient \n",
    "\n",
    "reg = 1.0\n",
    "theta_opt = reg_lr1.train(XX,y,reg=reg,num_iters=1000,norm=False)\n",
    "\n",
    "# print the theta found and the final loss\n",
    "\n",
    "print('Theta found by fmin_bfgs: %s' %theta_opt)\n",
    "print(\"Final loss = %.4f\" %reg_lr1.loss(theta_opt,XX,y,0.0))\n",
    "\n",
    "# plot the decision boundary\n",
    "\n",
    "plot_utils.plot_decision_boundary_poly(X,y,theta_opt,reg,p,'Chip Test 1', 'Chip Test 2',['y = 0','y = 1'])\n",
    "plt.show()\n"
   ]
  },
  {
   "cell_type": "code",
   "execution_count": null,
   "metadata": {},
   "outputs": [],
   "source": [
    "# compute accuracy on training set\n",
    "# implement the predict method in logistic_regressor.py\n",
    "\n",
    "reg_lr1.theta = theta_opt\n",
    "predy = reg_lr1.predict(XX)\n",
    "\n",
    "# TODO: fill in the expression for accuracy of prediction\n",
    "accuracy = 0\n",
    "print(\"Accuracy on the training set = %.4f\" %accuracy)"
   ]
  },
  {
   "cell_type": "markdown",
   "metadata": {},
   "source": [
    "# Comparing learned model with sklearn's logistic ridge regression"
   ]
  },
  {
   "cell_type": "code",
   "execution_count": null,
   "metadata": {},
   "outputs": [],
   "source": [
    "# Compare with model learned by sklearn's logistic regression with reg = 1/C\n",
    "# the regularization parameter set below can be varied (on a logarithmic scale)\n",
    "\n",
    "reg =1.0\n",
    "\n",
    "# L2 regularization with sklearn LogisticRegression\n",
    "\n",
    "from sklearn import linear_model\n",
    "sk_logreg_l2 = linear_model.LogisticRegression(C=1.0/reg,solver='lbfgs',fit_intercept=False)\n",
    "sk_logreg_l2.fit(XX,y)\n",
    "print(\"Theta found by sklearn with L2 reg: %s\" %sk_logreg_l2.coef_)\n",
    "print(\"Loss with sklearn theta: %.4f\" %reg_lr1.loss(sk_logreg_l2.coef_[0],XX,y,0.0))\n",
    "\n",
    "plot_utils.plot_decision_boundary_sklearn_poly(X,y,sk_logreg_l2,reg,p,'Exam 1 score', 'Exam 2 score',['Not Admitted','Admitted'])\n",
    "plt.show()\n",
    "\n",
    "plot_utils.plot_regularization_path(XX,y)\n",
    "plt.show()"
   ]
  },
  {
   "cell_type": "markdown",
   "metadata": {},
   "source": [
    "# L1 regularized logistic regression"
   ]
  },
  {
   "cell_type": "code",
   "execution_count": null,
   "metadata": {
    "scrolled": false
   },
   "outputs": [],
   "source": [
    "# L1 regularization witk sklearn LogisticRegression\n",
    "\n",
    "sk_logreg_l1 = linear_model.LogisticRegression(C=1.0/reg,solver='liblinear',fit_intercept=False,penalty='l1')\n",
    "sk_logreg_l1.fit(XX,y)\n",
    "print(\"Theta found by sklearn with L1 reg: %s\" %sk_logreg_l1.coef_)\n",
    "print(\"Loss with sklearn theta: %.4f\" %reg_lr1.loss(sk_logreg_l1.coef_[0],XX,y,0.0))\n",
    "\n",
    "plot_utils.plot_decision_boundary_sklearn_poly(X,y,sk_logreg_l1,reg,p,'Exam 1 score', 'Exam 2 score',['Not Admitted','Admitted'])\n",
    "plt.show()\n",
    "# plot regularization paths for L1 regression\n",
    "# Exploration of L1 regularization \n",
    "# \n",
    "plot_utils.plot_regularization_path(XX,y)\n",
    "plt.show()"
   ]
  },
  {
   "cell_type": "code",
   "execution_count": null,
   "metadata": {},
   "outputs": [],
   "source": []
  }
 ],
 "metadata": {
  "kernelspec": {
   "display_name": "Python 3",
   "language": "python",
   "name": "python3"
  },
  "language_info": {
   "codemirror_mode": {
    "name": "ipython",
    "version": 3
   },
   "file_extension": ".py",
   "mimetype": "text/x-python",
   "name": "python",
   "nbconvert_exporter": "python",
   "pygments_lexer": "ipython3",
   "version": "3.6.8"
  }
 },
 "nbformat": 4,
 "nbformat_minor": 1
}
