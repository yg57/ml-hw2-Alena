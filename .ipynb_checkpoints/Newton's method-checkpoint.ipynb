{
 "cells": [
  {
   "cell_type": "code",
   "execution_count": 43,
   "metadata": {},
   "outputs": [],
   "source": [
    "import numpy as np\n",
    "\n",
    "def sigmoid (z):\n",
    "  \n",
    "    sig = np.zeros(z.shape)\n",
    "    sig = 1/(1+np.exp(-z))\n",
    "\n",
    "    return sig\n",
    "\n",
    "\n",
    "def loss(X, y, theta, reg):\n",
    "\n",
    "    m,dim = X.shape\n",
    "    J = 0\n",
    "    sig = sigmoid(np.dot(X,theta))\n",
    "    J = 1/m* (-np.dot(np.transpose(y),np.log(sig)) -np.dot(1-np.transpose(y), np.log(1- sig)))+ reg*np.sum(np.square(theta))/(2*m)\n",
    "    \n",
    "    return J\n",
    "\n",
    "\n",
    "\n",
    "def grad_loss(X,y, theta, reg):\n",
    "\n",
    "    m,dim = X.shape\n",
    "    grad = np.zeros((dim,))\n",
    "    grad = np.dot(np.transpose(X),sigmoid(np.dot(X,theta))-y)/m +reg/m*(np.vstack([0, theta[1:]]))\n",
    "\n",
    "    return grad\n",
    "\n",
    "def Hessian(X, theta, reg):\n",
    "    \n",
    "    S = []\n",
    "    m,dim = X.shape\n",
    "    #S = np.dot(sigmoid(np.dot(X,theta)),(1-sigmoid(np.dot(X,theta))))\n",
    "    for i in range(m):\n",
    "        S.append(list(sigmoid(np.dot(X[i,:],theta))*(1-sigmoid(np.dot(X[i,:],theta)))))\n",
    "    print(S)\n",
    "    Sdiag = np.diagflat(S)\n",
    "    H = 1/m*(np.dot(np.transpose(X),np.dot(Sdiag,X)) + reg*np.eye(dim) )\n",
    "    return H\n",
    "\n",
    "def newtons_method(X, y, initial, reg):                                                             \n",
    "\n",
    "    theta = initial\n",
    "                                                                 \n",
    "    delta_l = 10000 \n",
    "    L = loss(X, y, theta, reg)\n",
    "    # Convergence Conditions                                                        \n",
    "    sigma = .0000000001                                                                 \n",
    "    max_iterations = 10                                                        \n",
    "    i = 0                                                                           \n",
    "    while i < max_iterations and abs(delta_l)>sigma:      \n",
    "        i += 1                                                                      \n",
    "        grad = grad_loss(X, y, theta, reg)                                                      \n",
    "        H = Hessian(X, theta, reg)                                                 \n",
    "        H_inv = np.linalg.inv(H)                                                 \n",
    "\n",
    "        theta_new = theta - np.dot(H_inv,grad)               \n",
    "        l_new = loss(X,y, theta_new, reg)    \n",
    "        delta_l = L - l_new   \n",
    "        L = l_new   \n",
    "        theta = theta_new\n",
    "        #print('theta is :' ,theta)\n",
    "        #print('Loss is:', l_new)\n",
    "    return theta"
   ]
  },
  {
   "cell_type": "code",
   "execution_count": 44,
   "metadata": {},
   "outputs": [
    {
     "name": "stdout",
     "output_type": "stream",
     "text": [
      "[[0.045176659730912], [0.19661193324148185], [0.19661193324148185], [0.19661193324148185]]\n",
      "[[0.08328392340587315], [0.11424660718430199], [0.16474384136701406], [0.12676919531083525]]\n",
      "[[0.05651876203707522], [0.07302517206571403], [0.11093369924292452], [0.08805432281554652]]\n",
      "[[0.050067919023080935], [0.05889373380629031], [0.0821344236838582], [0.07047979874794304]]\n",
      "[[0.049030602891385805], [0.05397841454022811], [0.06704489688085932], [0.06108789094272044]]\n",
      "[[0.04877612130845385], [0.05166241280366008], [0.059083455710810306], [0.05584125602472709]]\n",
      "[[0.048655571752768356], [0.05037293018488715], [0.054700519643004396], [0.05285521642105758]]\n",
      "[[0.04859122954704326], [0.049623679855342974], [0.052193669534560665], [0.05111458197671972]]\n",
      "[[0.04855573231455924], [0.04918025340972027], [0.050723426211820105], [0.05008175525119392]]\n",
      "[[0.04853556376423097], [0.0489147499570455], [0.049847554480605474], [0.0494620271498971]]\n",
      "[[-5.81418413e+00]\n",
      " [-5.28625031e-03]\n",
      " [ 2.91163282e+00]]\n"
     ]
    }
   ],
   "source": [
    "X  = np.array([[1, 0, 3],[1, 1 ,3],[1 ,0, 1], [1, 1 ,1]])\n",
    "\n",
    "initial = np.array([[0],[-2],[1]])\n",
    "\n",
    "y = np.array([[1],[1],[0],[0]])\n",
    "reg = 0.07\n",
    "theta = newtons_method(X, y, initial, reg)\n",
    "print(theta)"
   ]
  },
  {
   "cell_type": "code",
   "execution_count": 32,
   "metadata": {},
   "outputs": [
    {
     "data": {
      "text/plain": [
       "array([-2.80704576])"
      ]
     },
     "execution_count": 32,
     "metadata": {},
     "output_type": "execute_result"
    }
   ],
   "source": [
    "np.dot(X[2],theta)"
   ]
  },
  {
   "cell_type": "code",
   "execution_count": null,
   "metadata": {},
   "outputs": [],
   "source": []
  }
 ],
 "metadata": {
  "kernelspec": {
   "display_name": "Python 3",
   "language": "python",
   "name": "python3"
  },
  "language_info": {
   "codemirror_mode": {
    "name": "ipython",
    "version": 3
   },
   "file_extension": ".py",
   "mimetype": "text/x-python",
   "name": "python",
   "nbconvert_exporter": "python",
   "pygments_lexer": "ipython3",
   "version": "3.7.4"
  }
 },
 "nbformat": 4,
 "nbformat_minor": 2
}
